{
 "cells": [
  {
   "cell_type": "markdown",
   "metadata": {},
   "source": [
    "## Data collected from 19JAN21/22\n",
    "## Background Testing"
   ]
  },
  {
   "cell_type": "code",
   "execution_count": null,
   "metadata": {},
   "outputs": [],
   "source": [
    "%matplotlib inline\n",
    "%config InlineBackend.figure_format='svg'\n",
    "\n",
    "import numpy as np\n",
    "import pandas as pd\n",
    "from datetime import datetime as dt\n",
    "import seaborn as sns\n",
    "import matplotlib.pyplot as plt\n",
    "import matplotlib.patches as mpatches\n",
    "import matplotlib.ticker as mticker\n",
    "sns.set()\n",
    "from datetime import datetime, timedelta\n",
    "from math import sqrt\n",
    "from scipy.signal import savgol_filter"
   ]
  },
  {
   "cell_type": "code",
   "execution_count": null,
   "metadata": {},
   "outputs": [],
   "source": [
    "url=\"https://raw.githubusercontent.com/goudrevv/3D-Print-Lab/master/data/20190121.TXT\"\n",
    "data=pd.read_csv(url)\n",
    "data.columns = [\"time\",\"temp\",\"RH\",\"0.3um\",\"0.5um\",\"1.0um\",\"2.5um\",\"5.0um\",\"10um\",\"pm1.0\",\"pm2.5\",\"pm10\"]\n",
    "data['time'] = pd.to_datetime(data['time'],unit='s')"
   ]
  },
  {
   "cell_type": "code",
   "execution_count": null,
   "metadata": {},
   "outputs": [],
   "source": [
    "data.describe()"
   ]
  },
  {
   "cell_type": "code",
   "execution_count": null,
   "metadata": {},
   "outputs": [],
   "source": [
    "fig, ax1 = plt.subplots()\n",
    "\n",
    "fig.set_size_inches(11.7, 8.27)\n",
    "\n",
    "\n",
    "ax1.plot(data['time'],data['temp'], 'k-', lw=3,label='temp')\n",
    "\n",
    "\n",
    "plt.xticks(size = 15)\n",
    "plt.yticks(size = 15)\n",
    "\n",
    "plt.title('$Temperature$ $Data$',fontsize=20)\n",
    "ax1.set_xlabel('$Time$ $Line$',fontsize=16,color='k',labelpad=13)\n",
    "ax1.grid(False)\n",
    "\n",
    "ax1.legend(loc='best',fontsize=17,markerscale=4)\n",
    "\n",
    "for label in ax1.xaxis.get_ticklabels():\n",
    "       label.set_rotation(0)\n",
    "ax1.xaxis.set_major_locator(mticker.MaxNLocator(7))\n",
    "ax1.set_ylabel('$Temperature$ $Degrees$ $C$',color='k',fontsize=16,labelpad=13)\n",
    "#fig.savefig( 'temp_2019temp.png' )"
   ]
  },
  {
   "cell_type": "code",
   "execution_count": null,
   "metadata": {},
   "outputs": [],
   "source": [
    "fig, ax1 = plt.subplots()\n",
    "\n",
    "fig.set_size_inches(11.7, 8.27)\n",
    "\n",
    "\n",
    "ax1.plot(data['time'],data['0.3um'], 'k-', lw=3,label='0.3um')\n",
    "\n",
    "plt.xticks(size = 15)\n",
    "plt.yticks(size = 15)\n",
    "\n",
    "plt.title('Particle Size 0.3um',fontsize=20)\n",
    "ax1.set_xlabel('$Time$ $Hours$',fontsize=16,color='k',labelpad=13)\n",
    "ax1.grid(False)\n",
    "\n",
    "ax1.legend(loc='best',fontsize=17,markerscale=4)\n",
    "\n",
    "for label in ax1.xaxis.get_ticklabels():\n",
    "       label.set_rotation(0)\n",
    "ax1.xaxis.set_major_locator(mticker.MaxNLocator(7))\n",
    "ax1.set_ylabel('Particle Number /0.1L',color='k',fontsize=16,labelpad=13)\n",
    "#fig.savefig( 'particle_size_0.3.png' )"
   ]
  },
  {
   "cell_type": "code",
   "execution_count": null,
   "metadata": {},
   "outputs": [],
   "source": [
    "fig, ax1 = plt.subplots()\n",
    "\n",
    "fig.set_size_inches(11.7, 8.27)\n",
    "\n",
    "\n",
    "ax1.plot(data['time'],data['0.5um'], 'k-', lw=3,label='0.5um')\n",
    "\n",
    "\n",
    "plt.xticks(size = 15)\n",
    "plt.yticks(size = 15)\n",
    "\n",
    "plt.title('$Particle$ $Size$ $0.5um$',fontsize=20)\n",
    "ax1.set_xlabel('$Time$ $Hours$',fontsize=16,color='k',labelpad=13)\n",
    "ax1.grid(False)\n",
    "\n",
    "ax1.legend(loc='best',fontsize=17,markerscale=4)\n",
    "\n",
    "for label in ax1.xaxis.get_ticklabels():\n",
    "       label.set_rotation(0)\n",
    "ax1.xaxis.set_major_locator(mticker.MaxNLocator(7))\n",
    "ax1.set_ylabel('Particle Number / 0.1L',color='k',fontsize=16,labelpad=13)\n",
    "#fig.savefig( 'particle_size_0.5.png' )"
   ]
  },
  {
   "cell_type": "code",
   "execution_count": null,
   "metadata": {},
   "outputs": [],
   "source": [
    "fig, ax1 = plt.subplots()\n",
    "\n",
    "fig.set_size_inches(11.7, 8.27)\n",
    "\n",
    "\n",
    "ax1.plot(data['time'],data['1.0um'], 'k-', lw=3,label='1.0um')\n",
    "\n",
    "\n",
    "plt.xticks(size = 15)\n",
    "plt.yticks(size = 15)\n",
    "\n",
    "plt.title('$Particle$ $Size$ $1um$',fontsize=20)\n",
    "ax1.set_xlabel('$Time$ $Hours$',fontsize=16,color='k',labelpad=13)\n",
    "ax1.grid(False)\n",
    "\n",
    "ax1.legend(loc='best',fontsize=17,markerscale=4)\n",
    "\n",
    "for label in ax1.xaxis.get_ticklabels():\n",
    "       label.set_rotation(0)\n",
    "ax1.xaxis.set_major_locator(mticker.MaxNLocator(7))\n",
    "ax1.set_ylabel('Particle Number / 0.1L',color='k',fontsize=16,labelpad=13)\n",
    "#fig.savefig( 'particle_size_1.png' )"
   ]
  },
  {
   "cell_type": "code",
   "execution_count": null,
   "metadata": {},
   "outputs": [],
   "source": [
    "fig, ax1 = plt.subplots()\n",
    "\n",
    "fig.set_size_inches(11.7, 8.27)\n",
    "\n",
    "\n",
    "ax1.plot(data['time'],data['2.5um'], 'k-', lw=3,label='2.5um')\n",
    "\n",
    "\n",
    "plt.xticks(size = 15)\n",
    "plt.yticks(size = 15)\n",
    "\n",
    "plt.title('$Particle$ $Size$ $2.5um$',fontsize=20)\n",
    "ax1.set_xlabel('$Time$ $Hours$',fontsize=16,color='k',labelpad=13)\n",
    "ax1.grid(False)\n",
    "\n",
    "ax1.legend(loc='best',fontsize=17,markerscale=4)\n",
    "\n",
    "for label in ax1.xaxis.get_ticklabels():\n",
    "       label.set_rotation(0)\n",
    "ax1.xaxis.set_major_locator(mticker.MaxNLocator(7))\n",
    "ax1.set_ylabel('Paritcle Number / 0.1L',color='k',fontsize=16,labelpad=13)\n",
    "#fig.savefig( 'particle_size_2.5.png' )"
   ]
  },
  {
   "cell_type": "code",
   "execution_count": null,
   "metadata": {},
   "outputs": [],
   "source": [
    "fig, ax1 = plt.subplots()\n",
    "\n",
    "fig.set_size_inches(11.7, 8.27)\n",
    "\n",
    "\n",
    "ax1.plot(data['time'],data['5.0um'], 'k-', lw=3,label='5.0um')\n",
    "\n",
    "\n",
    "plt.xticks(size = 15)\n",
    "plt.yticks(size = 15)\n",
    "\n",
    "plt.title('$Particle$ $Size$ $5um$',fontsize=20)\n",
    "ax1.set_xlabel('$Time$ $Hours$',fontsize=16,color='k',labelpad=13)\n",
    "ax1.grid(False)\n",
    "\n",
    "ax1.legend(loc='best',fontsize=17,markerscale=4)\n",
    "\n",
    "for label in ax1.xaxis.get_ticklabels():\n",
    "       label.set_rotation(0)\n",
    "ax1.xaxis.set_major_locator(mticker.MaxNLocator(7))\n",
    "ax1.set_ylabel('Paritcle Number / 0.1L',color='k',fontsize=16,labelpad=13)\n",
    "#fig.savefig( 'particle_size_5.png' )"
   ]
  },
  {
   "cell_type": "code",
   "execution_count": null,
   "metadata": {},
   "outputs": [],
   "source": [
    "fig, ax1 = plt.subplots()\n",
    "\n",
    "fig.set_size_inches(11.7, 8.27)\n",
    "\n",
    "\n",
    "ax1.plot(data['time'],data['10um'], 'k-', lw=3,label='10.0um')\n",
    "\n",
    "\n",
    "plt.xticks(size = 15)\n",
    "plt.yticks(size = 15)\n",
    "\n",
    "plt.title('$Particle$ $Size$ $10um$',fontsize=20)\n",
    "ax1.set_xlabel('$Time$ $Hours$',fontsize=16,color='k',labelpad=13)\n",
    "ax1.grid(False)\n",
    "\n",
    "ax1.legend(loc='best',fontsize=17,markerscale=4)\n",
    "\n",
    "for label in ax1.xaxis.get_ticklabels():\n",
    "       label.set_rotation(0)\n",
    "ax1.xaxis.set_major_locator(mticker.MaxNLocator(7))\n",
    "ax1.set_ylabel('Particle Number / 0.1L',color='k',fontsize=16,labelpad=13)\n",
    "#fig.savefig( 'particle_size_10.png' )"
   ]
  },
  {
   "cell_type": "code",
   "execution_count": null,
   "metadata": {},
   "outputs": [],
   "source": []
  }
 ],
 "metadata": {
  "kernelspec": {
   "display_name": "Python 3",
   "language": "python",
   "name": "python3"
  },
  "language_info": {
   "codemirror_mode": {
    "name": "ipython",
    "version": 3
   },
   "file_extension": ".py",
   "mimetype": "text/x-python",
   "name": "python",
   "nbconvert_exporter": "python",
   "pygments_lexer": "ipython3",
   "version": "3.7.1"
  }
 },
 "nbformat": 4,
 "nbformat_minor": 2
}
