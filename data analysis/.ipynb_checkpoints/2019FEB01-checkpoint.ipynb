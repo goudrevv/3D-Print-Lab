{
 "cells": [
  {
   "cell_type": "markdown",
   "metadata": {},
   "source": [
    "## Data collected from 19FEB01\n",
    "## PLA Testing"
   ]
  },
  {
   "cell_type": "code",
   "execution_count": 1,
   "metadata": {},
   "outputs": [],
   "source": [
    "%matplotlib inline\n",
    "%config InlineBackend.figure_format='svg'\n",
    "\n",
    "import numpy as np\n",
    "import pandas as pd\n",
    "from datetime import datetime as dt\n",
    "import seaborn as sns\n",
    "import matplotlib.pyplot as plt\n",
    "import matplotlib.patches as mpatches\n",
    "import matplotlib.ticker as mticker\n",
    "sns.set()\n",
    "from datetime import datetime, timedelta\n",
    "from math import sqrt\n",
    "from scipy.signal import savgol_filter"
   ]
  },
  {
   "cell_type": "code",
   "execution_count": 2,
   "metadata": {},
   "outputs": [
    {
     "ename": "ParserError",
     "evalue": "Error tokenizing data. C error: Expected 1 fields in line 12, saw 2\n",
     "output_type": "error",
     "traceback": [
      "\u001b[1;31m---------------------------------------------------------------------------\u001b[0m",
      "\u001b[1;31mParserError\u001b[0m                               Traceback (most recent call last)",
      "\u001b[1;32m<ipython-input-2-1da4c26d5af1>\u001b[0m in \u001b[0;36m<module>\u001b[1;34m\u001b[0m\n\u001b[0;32m      1\u001b[0m \u001b[0murl\u001b[0m\u001b[1;33m=\u001b[0m\u001b[1;34m\"http://localhost:8888/edit/Documents/GitHub/3D-Print-Lab/data/20190201.TXT\"\u001b[0m\u001b[1;33m\u001b[0m\u001b[1;33m\u001b[0m\u001b[0m\n\u001b[1;32m----> 2\u001b[1;33m \u001b[0mdata\u001b[0m\u001b[1;33m=\u001b[0m\u001b[0mpd\u001b[0m\u001b[1;33m.\u001b[0m\u001b[0mread_csv\u001b[0m\u001b[1;33m(\u001b[0m\u001b[0murl\u001b[0m\u001b[1;33m)\u001b[0m\u001b[1;33m\u001b[0m\u001b[1;33m\u001b[0m\u001b[0m\n\u001b[0m\u001b[0;32m      3\u001b[0m \u001b[0mdata\u001b[0m\u001b[1;33m.\u001b[0m\u001b[0mcolumns\u001b[0m \u001b[1;33m=\u001b[0m \u001b[1;33m[\u001b[0m\u001b[1;34m\"time\"\u001b[0m\u001b[1;33m,\u001b[0m\u001b[1;34m\"temp\"\u001b[0m\u001b[1;33m,\u001b[0m\u001b[1;34m\"RH\"\u001b[0m\u001b[1;33m,\u001b[0m\u001b[1;34m\"0.3um\"\u001b[0m\u001b[1;33m,\u001b[0m\u001b[1;34m\"0.5um\"\u001b[0m\u001b[1;33m,\u001b[0m\u001b[1;34m\"1.0um\"\u001b[0m\u001b[1;33m,\u001b[0m\u001b[1;34m\"2.5um\"\u001b[0m\u001b[1;33m,\u001b[0m\u001b[1;34m\"5.0um\"\u001b[0m\u001b[1;33m,\u001b[0m\u001b[1;34m\"10um\"\u001b[0m\u001b[1;33m,\u001b[0m\u001b[1;34m\"pm1.0\"\u001b[0m\u001b[1;33m,\u001b[0m\u001b[1;34m\"pm2.5\"\u001b[0m\u001b[1;33m,\u001b[0m\u001b[1;34m\"pm10\"\u001b[0m\u001b[1;33m]\u001b[0m\u001b[1;33m\u001b[0m\u001b[1;33m\u001b[0m\u001b[0m\n\u001b[0;32m      4\u001b[0m \u001b[0mdata\u001b[0m\u001b[1;33m[\u001b[0m\u001b[1;34m'time'\u001b[0m\u001b[1;33m]\u001b[0m \u001b[1;33m=\u001b[0m \u001b[0mpd\u001b[0m\u001b[1;33m.\u001b[0m\u001b[0mto_datetime\u001b[0m\u001b[1;33m(\u001b[0m\u001b[0mdata\u001b[0m\u001b[1;33m[\u001b[0m\u001b[1;34m'time'\u001b[0m\u001b[1;33m]\u001b[0m\u001b[1;33m,\u001b[0m\u001b[0munit\u001b[0m\u001b[1;33m=\u001b[0m\u001b[1;34m's'\u001b[0m\u001b[1;33m)\u001b[0m\u001b[1;33m\u001b[0m\u001b[1;33m\u001b[0m\u001b[0m\n",
      "\u001b[1;32m~\\Anaconda3\\lib\\site-packages\\pandas\\io\\parsers.py\u001b[0m in \u001b[0;36mparser_f\u001b[1;34m(filepath_or_buffer, sep, delimiter, header, names, index_col, usecols, squeeze, prefix, mangle_dupe_cols, dtype, engine, converters, true_values, false_values, skipinitialspace, skiprows, nrows, na_values, keep_default_na, na_filter, verbose, skip_blank_lines, parse_dates, infer_datetime_format, keep_date_col, date_parser, dayfirst, iterator, chunksize, compression, thousands, decimal, lineterminator, quotechar, quoting, escapechar, comment, encoding, dialect, tupleize_cols, error_bad_lines, warn_bad_lines, skipfooter, doublequote, delim_whitespace, low_memory, memory_map, float_precision)\u001b[0m\n\u001b[0;32m    676\u001b[0m                     skip_blank_lines=skip_blank_lines)\n\u001b[0;32m    677\u001b[0m \u001b[1;33m\u001b[0m\u001b[0m\n\u001b[1;32m--> 678\u001b[1;33m         \u001b[1;32mreturn\u001b[0m \u001b[0m_read\u001b[0m\u001b[1;33m(\u001b[0m\u001b[0mfilepath_or_buffer\u001b[0m\u001b[1;33m,\u001b[0m \u001b[0mkwds\u001b[0m\u001b[1;33m)\u001b[0m\u001b[1;33m\u001b[0m\u001b[1;33m\u001b[0m\u001b[0m\n\u001b[0m\u001b[0;32m    679\u001b[0m \u001b[1;33m\u001b[0m\u001b[0m\n\u001b[0;32m    680\u001b[0m     \u001b[0mparser_f\u001b[0m\u001b[1;33m.\u001b[0m\u001b[0m__name__\u001b[0m \u001b[1;33m=\u001b[0m \u001b[0mname\u001b[0m\u001b[1;33m\u001b[0m\u001b[1;33m\u001b[0m\u001b[0m\n",
      "\u001b[1;32m~\\Anaconda3\\lib\\site-packages\\pandas\\io\\parsers.py\u001b[0m in \u001b[0;36m_read\u001b[1;34m(filepath_or_buffer, kwds)\u001b[0m\n\u001b[0;32m    444\u001b[0m \u001b[1;33m\u001b[0m\u001b[0m\n\u001b[0;32m    445\u001b[0m     \u001b[1;32mtry\u001b[0m\u001b[1;33m:\u001b[0m\u001b[1;33m\u001b[0m\u001b[1;33m\u001b[0m\u001b[0m\n\u001b[1;32m--> 446\u001b[1;33m         \u001b[0mdata\u001b[0m \u001b[1;33m=\u001b[0m \u001b[0mparser\u001b[0m\u001b[1;33m.\u001b[0m\u001b[0mread\u001b[0m\u001b[1;33m(\u001b[0m\u001b[0mnrows\u001b[0m\u001b[1;33m)\u001b[0m\u001b[1;33m\u001b[0m\u001b[1;33m\u001b[0m\u001b[0m\n\u001b[0m\u001b[0;32m    447\u001b[0m     \u001b[1;32mfinally\u001b[0m\u001b[1;33m:\u001b[0m\u001b[1;33m\u001b[0m\u001b[1;33m\u001b[0m\u001b[0m\n\u001b[0;32m    448\u001b[0m         \u001b[0mparser\u001b[0m\u001b[1;33m.\u001b[0m\u001b[0mclose\u001b[0m\u001b[1;33m(\u001b[0m\u001b[1;33m)\u001b[0m\u001b[1;33m\u001b[0m\u001b[1;33m\u001b[0m\u001b[0m\n",
      "\u001b[1;32m~\\Anaconda3\\lib\\site-packages\\pandas\\io\\parsers.py\u001b[0m in \u001b[0;36mread\u001b[1;34m(self, nrows)\u001b[0m\n\u001b[0;32m   1034\u001b[0m                 \u001b[1;32mraise\u001b[0m \u001b[0mValueError\u001b[0m\u001b[1;33m(\u001b[0m\u001b[1;34m'skipfooter not supported for iteration'\u001b[0m\u001b[1;33m)\u001b[0m\u001b[1;33m\u001b[0m\u001b[1;33m\u001b[0m\u001b[0m\n\u001b[0;32m   1035\u001b[0m \u001b[1;33m\u001b[0m\u001b[0m\n\u001b[1;32m-> 1036\u001b[1;33m         \u001b[0mret\u001b[0m \u001b[1;33m=\u001b[0m \u001b[0mself\u001b[0m\u001b[1;33m.\u001b[0m\u001b[0m_engine\u001b[0m\u001b[1;33m.\u001b[0m\u001b[0mread\u001b[0m\u001b[1;33m(\u001b[0m\u001b[0mnrows\u001b[0m\u001b[1;33m)\u001b[0m\u001b[1;33m\u001b[0m\u001b[1;33m\u001b[0m\u001b[0m\n\u001b[0m\u001b[0;32m   1037\u001b[0m \u001b[1;33m\u001b[0m\u001b[0m\n\u001b[0;32m   1038\u001b[0m         \u001b[1;31m# May alter columns / col_dict\u001b[0m\u001b[1;33m\u001b[0m\u001b[1;33m\u001b[0m\u001b[1;33m\u001b[0m\u001b[0m\n",
      "\u001b[1;32m~\\Anaconda3\\lib\\site-packages\\pandas\\io\\parsers.py\u001b[0m in \u001b[0;36mread\u001b[1;34m(self, nrows)\u001b[0m\n\u001b[0;32m   1846\u001b[0m     \u001b[1;32mdef\u001b[0m \u001b[0mread\u001b[0m\u001b[1;33m(\u001b[0m\u001b[0mself\u001b[0m\u001b[1;33m,\u001b[0m \u001b[0mnrows\u001b[0m\u001b[1;33m=\u001b[0m\u001b[1;32mNone\u001b[0m\u001b[1;33m)\u001b[0m\u001b[1;33m:\u001b[0m\u001b[1;33m\u001b[0m\u001b[1;33m\u001b[0m\u001b[0m\n\u001b[0;32m   1847\u001b[0m         \u001b[1;32mtry\u001b[0m\u001b[1;33m:\u001b[0m\u001b[1;33m\u001b[0m\u001b[1;33m\u001b[0m\u001b[0m\n\u001b[1;32m-> 1848\u001b[1;33m             \u001b[0mdata\u001b[0m \u001b[1;33m=\u001b[0m \u001b[0mself\u001b[0m\u001b[1;33m.\u001b[0m\u001b[0m_reader\u001b[0m\u001b[1;33m.\u001b[0m\u001b[0mread\u001b[0m\u001b[1;33m(\u001b[0m\u001b[0mnrows\u001b[0m\u001b[1;33m)\u001b[0m\u001b[1;33m\u001b[0m\u001b[1;33m\u001b[0m\u001b[0m\n\u001b[0m\u001b[0;32m   1849\u001b[0m         \u001b[1;32mexcept\u001b[0m \u001b[0mStopIteration\u001b[0m\u001b[1;33m:\u001b[0m\u001b[1;33m\u001b[0m\u001b[1;33m\u001b[0m\u001b[0m\n\u001b[0;32m   1850\u001b[0m             \u001b[1;32mif\u001b[0m \u001b[0mself\u001b[0m\u001b[1;33m.\u001b[0m\u001b[0m_first_chunk\u001b[0m\u001b[1;33m:\u001b[0m\u001b[1;33m\u001b[0m\u001b[1;33m\u001b[0m\u001b[0m\n",
      "\u001b[1;32mpandas\\_libs\\parsers.pyx\u001b[0m in \u001b[0;36mpandas._libs.parsers.TextReader.read\u001b[1;34m()\u001b[0m\n",
      "\u001b[1;32mpandas\\_libs\\parsers.pyx\u001b[0m in \u001b[0;36mpandas._libs.parsers.TextReader._read_low_memory\u001b[1;34m()\u001b[0m\n",
      "\u001b[1;32mpandas\\_libs\\parsers.pyx\u001b[0m in \u001b[0;36mpandas._libs.parsers.TextReader._read_rows\u001b[1;34m()\u001b[0m\n",
      "\u001b[1;32mpandas\\_libs\\parsers.pyx\u001b[0m in \u001b[0;36mpandas._libs.parsers.TextReader._tokenize_rows\u001b[1;34m()\u001b[0m\n",
      "\u001b[1;32mpandas\\_libs\\parsers.pyx\u001b[0m in \u001b[0;36mpandas._libs.parsers.raise_parser_error\u001b[1;34m()\u001b[0m\n",
      "\u001b[1;31mParserError\u001b[0m: Error tokenizing data. C error: Expected 1 fields in line 12, saw 2\n"
     ]
    }
   ],
   "source": [
    "url=\"https://raw.githubusercontent.com/goudrevv/3D-Print-Lab/master/data/20190201.TXT\"\n",
    "data=pd.read_csv(url)\n",
    "data.columns = [\"time\",\"temp\",\"RH\",\"0.3um\",\"0.5um\",\"1.0um\",\"2.5um\",\"5.0um\",\"10um\",\"pm1.0\",\"pm2.5\",\"pm10\"]\n",
    "data['time'] = pd.to_datetime(data['time'],unit='s')"
   ]
  },
  {
   "cell_type": "code",
   "execution_count": null,
   "metadata": {},
   "outputs": [],
   "source": [
    "data.describe()"
   ]
  },
  {
   "cell_type": "code",
   "execution_count": null,
   "metadata": {},
   "outputs": [],
   "source": [
    "fig, ax1 = plt.subplots()\n",
    "\n",
    "fig.set_size_inches(11.7, 8.27)\n",
    "\n",
    "\n",
    "ax1.plot(data['time'],data['temp'], 'k-', lw=3,label='temp')\n",
    "\n",
    "\n",
    "plt.xticks(size = 15)\n",
    "plt.yticks(size = 15)\n",
    "\n",
    "plt.title('$Temperature$ $Data$',fontsize=20)\n",
    "ax1.set_xlabel('$Time$ $Line$',fontsize=16,color='k',labelpad=13)\n",
    "ax1.grid(False)\n",
    "\n",
    "ax1.legend(loc='best',fontsize=17,markerscale=4)\n",
    "\n",
    "for label in ax1.xaxis.get_ticklabels():\n",
    "       label.set_rotation(0)\n",
    "ax1.xaxis.set_major_locator(mticker.MaxNLocator(7))\n",
    "ax1.set_ylabel('$Temperature$ $Degrees$ $C$',color='k',fontsize=16,labelpad=13)\n",
    "#fig.savefig( 'temp_2019temp.png' )"
   ]
  },
  {
   "cell_type": "code",
   "execution_count": null,
   "metadata": {},
   "outputs": [],
   "source": [
    "fig, ax1 = plt.subplots()\n",
    "\n",
    "fig.set_size_inches(11.7, 8.27)\n",
    "\n",
    "\n",
    "ax1.plot(data['time'],data['0.3um'], 'k-', lw=3,label='0.3um')\n",
    "\n",
    "plt.xticks(size = 15)\n",
    "plt.yticks(size = 15)\n",
    "\n",
    "plt.title('$Particle$ $Size$ $0.3um$',fontsize=20)\n",
    "ax1.set_xlabel('$Time$ $Hours$',fontsize=16,color='k',labelpad=13)\n",
    "ax1.grid(False)\n",
    "\n",
    "ax1.legend(loc='best',fontsize=17,markerscale=4)\n",
    "\n",
    "for label in ax1.xaxis.get_ticklabels():\n",
    "       label.set_rotation(0)\n",
    "ax1.xaxis.set_major_locator(mticker.MaxNLocator(7))\n",
    "ax1.set_ylabel('$paritcle$ $number$ /0.1L$',color='k',fontsize=16,labelpad=13)\n",
    "#fig.savefig( 'particle_size_0.3.png' )"
   ]
  },
  {
   "cell_type": "code",
   "execution_count": null,
   "metadata": {},
   "outputs": [],
   "source": [
    "fig, ax1 = plt.subplots()\n",
    "\n",
    "fig.set_size_inches(11.7, 8.27)\n",
    "\n",
    "\n",
    "ax1.plot(data['time'],data['0.5um'], 'k-', lw=3,label='0.5um')\n",
    "\n",
    "\n",
    "plt.xticks(size = 15)\n",
    "plt.yticks(size = 15)\n",
    "\n",
    "plt.title('$Particle$ $Size$ $0.5um$',fontsize=20)\n",
    "ax1.set_xlabel('$Time$ $Hours$',fontsize=16,color='k',labelpad=13)\n",
    "ax1.grid(False)\n",
    "\n",
    "ax1.legend(loc='best',fontsize=17,markerscale=4)\n",
    "\n",
    "for label in ax1.xaxis.get_ticklabels():\n",
    "       label.set_rotation(0)\n",
    "ax1.xaxis.set_major_locator(mticker.MaxNLocator(7))\n",
    "ax1.set_ylabel('$paritcle$ $number$ /0.1L$',color='k',fontsize=16,labelpad=13)\n",
    "#fig.savefig( 'particle_size_0.5.png' )"
   ]
  },
  {
   "cell_type": "code",
   "execution_count": null,
   "metadata": {},
   "outputs": [],
   "source": [
    "fig, ax1 = plt.subplots()\n",
    "\n",
    "fig.set_size_inches(11.7, 8.27)\n",
    "\n",
    "\n",
    "ax1.plot(data['time'],data['1.0um'], 'k-', lw=3,label='1.0um')\n",
    "\n",
    "\n",
    "plt.xticks(size = 15)\n",
    "plt.yticks(size = 15)\n",
    "\n",
    "plt.title('$Particle$ $Size$ $1um$',fontsize=20)\n",
    "ax1.set_xlabel('$Time$ $Hours$',fontsize=16,color='k',labelpad=13)\n",
    "ax1.grid(False)\n",
    "\n",
    "ax1.legend(loc='best',fontsize=17,markerscale=4)\n",
    "\n",
    "for label in ax1.xaxis.get_ticklabels():\n",
    "       label.set_rotation(0)\n",
    "ax1.xaxis.set_major_locator(mticker.MaxNLocator(7))\n",
    "ax1.set_ylabel('Paritcle Number / 0.1L',color='k',fontsize=16,labelpad=13)\n",
    "#fig.savefig( 'particle_size_1.png' )"
   ]
  },
  {
   "cell_type": "code",
   "execution_count": null,
   "metadata": {},
   "outputs": [],
   "source": [
    "fig, ax1 = plt.subplots()\n",
    "\n",
    "fig.set_size_inches(11.7, 8.27)\n",
    "\n",
    "\n",
    "ax1.plot(data['time'],data['2.5um'], 'k-', lw=3,label='2.5um')\n",
    "\n",
    "\n",
    "plt.xticks(size = 15)\n",
    "plt.yticks(size = 15)\n",
    "\n",
    "plt.title('$Particle$ $Size$ $2.5um$',fontsize=20)\n",
    "ax1.set_xlabel('$Time$ $Hours$',fontsize=16,color='k',labelpad=13)\n",
    "ax1.grid(False)\n",
    "\n",
    "ax1.legend(loc='best',fontsize=17,markerscale=4)\n",
    "\n",
    "for label in ax1.xaxis.get_ticklabels():\n",
    "       label.set_rotation(0)\n",
    "ax1.xaxis.set_major_locator(mticker.MaxNLocator(7))\n",
    "ax1.set_ylabel('Paritcle Number / 0.1L',color='k',fontsize=16,labelpad=13)\n",
    "#fig.savefig( 'particle_size_2.5.png' )"
   ]
  },
  {
   "cell_type": "code",
   "execution_count": null,
   "metadata": {},
   "outputs": [],
   "source": [
    "fig, ax1 = plt.subplots()\n",
    "\n",
    "fig.set_size_inches(11.7, 8.27)\n",
    "\n",
    "\n",
    "ax1.plot(data['time'],data['5.0um'], 'k-', lw=3,label='5.0um')\n",
    "\n",
    "\n",
    "plt.xticks(size = 15)\n",
    "plt.yticks(size = 15)\n",
    "\n",
    "plt.title('$Particle$ $Size$ $5um$',fontsize=20)\n",
    "ax1.set_xlabel('$Time$ $Hours$',fontsize=16,color='k',labelpad=13)\n",
    "ax1.grid(False)\n",
    "\n",
    "ax1.legend(loc='best',fontsize=17,markerscale=4)\n",
    "\n",
    "for label in ax1.xaxis.get_ticklabels():\n",
    "       label.set_rotation(0)\n",
    "ax1.xaxis.set_major_locator(mticker.MaxNLocator(7))\n",
    "ax1.set_ylabel('Paritcle Number / 0.1L',color='k',fontsize=16,labelpad=13)\n",
    "#fig.savefig( 'particle_size_5.png' )"
   ]
  },
  {
   "cell_type": "code",
   "execution_count": null,
   "metadata": {},
   "outputs": [],
   "source": [
    "fig, ax1 = plt.subplots()\n",
    "\n",
    "fig.set_size_inches(11.7, 8.27)\n",
    "\n",
    "\n",
    "ax1.plot(data['time'],data['10um'], 'k-', lw=3,label='10.0um')\n",
    "\n",
    "\n",
    "plt.xticks(size = 15)\n",
    "plt.yticks(size = 15)\n",
    "\n",
    "plt.title('$Particle$ $Size$ $10um$',fontsize=20)\n",
    "ax1.set_xlabel('$Time$ $Hours$',fontsize=16,color='k',labelpad=13)\n",
    "ax1.grid(False)\n",
    "\n",
    "ax1.legend(loc='best',fontsize=17,markerscale=4)\n",
    "\n",
    "for label in ax1.xaxis.get_ticklabels():\n",
    "       label.set_rotation(0)\n",
    "ax1.xaxis.set_major_locator(mticker.MaxNLocator(7))\n",
    "ax1.set_ylabel('Particle Number / 0.1L',color='k',fontsize=16,labelpad=13)\n",
    "#fig.savefig( 'particle_size_10.png' )"
   ]
  },
  {
   "cell_type": "code",
   "execution_count": null,
   "metadata": {},
   "outputs": [],
   "source": []
  }
 ],
 "metadata": {
  "kernelspec": {
   "display_name": "Python 3",
   "language": "python",
   "name": "python3"
  },
  "language_info": {
   "codemirror_mode": {
    "name": "ipython",
    "version": 3
   },
   "file_extension": ".py",
   "mimetype": "text/x-python",
   "name": "python",
   "nbconvert_exporter": "python",
   "pygments_lexer": "ipython3",
   "version": "3.7.1"
  }
 },
 "nbformat": 4,
 "nbformat_minor": 2
}
